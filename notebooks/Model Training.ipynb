{
 "cells": [
  {
   "cell_type": "markdown",
   "metadata": {},
   "source": [
    "# Import Library"
   ]
  },
  {
   "cell_type": "code",
   "execution_count": null,
   "metadata": {},
   "outputs": [],
   "source": []
  },
  {
   "cell_type": "markdown",
   "metadata": {},
   "source": [
    "# Experiment Set-Up"
   ]
  },
  {
   "cell_type": "markdown",
   "metadata": {},
   "source": [
    "- Algorithm : Tree-based model (as it is best-fit with the data distribution)\n",
    "  - Decision Tree (baseline model)\n",
    "  - Random Forest\n",
    "  - XGBoost\n",
    "- Training\n",
    "  - Baseline Performance (Decision Tree model)\n",
    "  - Model tuning & selecion (Validation Set)\n",
    "  - Final Evalution (Testing Set)\n",
    "- Evaluation\n",
    "  - Precision -> any reasons tomorrow"
   ]
  },
  {
   "cell_type": "markdown",
   "metadata": {},
   "source": []
  }
 ],
 "metadata": {
  "language_info": {
   "name": "python"
  }
 },
 "nbformat": 4,
 "nbformat_minor": 2
}
