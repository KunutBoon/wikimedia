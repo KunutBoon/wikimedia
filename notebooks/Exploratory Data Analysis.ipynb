{
 "cells": [
  {
   "cell_type": "markdown",
   "metadata": {},
   "source": [
    "# Import Library"
   ]
  },
  {
   "cell_type": "code",
   "execution_count": 145,
   "metadata": {},
   "outputs": [],
   "source": [
    "import os\n",
    "import re\n",
    "import json\n",
    "import xml.etree.ElementTree as ET\n",
    "from pathlib import Path\n",
    "\n",
    "import pandas as pd\n",
    "import numpy as np"
   ]
  },
  {
   "cell_type": "markdown",
   "metadata": {},
   "source": [
    "# Functions"
   ]
  },
  {
   "cell_type": "code",
   "execution_count": 9,
   "metadata": {},
   "outputs": [],
   "source": [
    "def get_namespace(element):\n",
    "    m = re.match(r'\\{.*\\}', element.tag)\n",
    "    if m:\n",
    "        tag = m.group(0)\n",
    "    else:\n",
    "        tag = ''\n",
    "    return  tag"
   ]
  },
  {
   "cell_type": "code",
   "execution_count": 75,
   "metadata": {},
   "outputs": [],
   "source": [
    "def parse_data(root):\n",
    "    list_records = list()\n",
    "    xml_nms = get_namespace(root)\n",
    "\n",
    "    list_elems = root.findall(f'{xml_nms}logitem')\n",
    "    n_all_elems = len(list_elems)\n",
    "    nth_percent_display = n_all_elems // 10\n",
    "\n",
    "    xml_tag_mapper = {\n",
    "        f'{xml_nms}id': 'log_id',\n",
    "        f'{xml_nms}timestamp': 'log_timestamp',\n",
    "        f'{xml_nms}contributor/{xml_nms}username': 'user_name',\n",
    "        f'{xml_nms}contributor/{xml_nms}id': 'user_id',\n",
    "        f'{xml_nms}comment': 'user_comment',\n",
    "        f'{xml_nms}type': 'action_type',\n",
    "        f'{xml_nms}action': 'action',\n",
    "        f'{xml_nms}logtitle': 'log_title'\n",
    "    }\n",
    "\n",
    "    for i, elem in enumerate(list_elems):\n",
    "        record = dict()\n",
    "\n",
    "        for xml_tag, col_name in xml_tag_mapper.items():\n",
    "            try:\n",
    "                value = elem.find(xml_tag).text\n",
    "            except AttributeError:\n",
    "                value = None\n",
    "            \n",
    "            record[col_name] = value\n",
    "\n",
    "        list_records.append(record)\n",
    "\n",
    "        if i % nth_percent_display == 0:\n",
    "            progress = int(i / nth_percent_display)\n",
    "            if progress <= 9 and progress > 0:\n",
    "                print(\"progress: {}% {}\".format(10 * progress, \".\" * progress))\n",
    "            else:\n",
    "                if i == 10:\n",
    "                    print(\"done\")\n",
    "\n",
    "    df = pd.read_json(json.dumps(list_records), orient='records')\n",
    "\n",
    "    return df"
   ]
  },
  {
   "cell_type": "markdown",
   "metadata": {},
   "source": [
    "# Import Data"
   ]
  },
  {
   "cell_type": "code",
   "execution_count": 2,
   "metadata": {},
   "outputs": [],
   "source": [
    "path = Path(os.getcwd())\n",
    "\n",
    "project_dir = path.parent\n",
    "raw_data_dir = project_dir / 'data' / 'raw'"
   ]
  },
  {
   "cell_type": "code",
   "execution_count": 3,
   "metadata": {},
   "outputs": [],
   "source": [
    "tree_page_logging = ET.parse(raw_data_dir / 'thwiki-20240920-pages-logging.xml')\n",
    "root_page_logging = tree_page_logging.getroot()"
   ]
  },
  {
   "cell_type": "code",
   "execution_count": 76,
   "metadata": {},
   "outputs": [
    {
     "name": "stdout",
     "output_type": "stream",
     "text": [
      "progress: 10% .\n",
      "progress: 20% ..\n",
      "progress: 30% ...\n",
      "progress: 40% ....\n",
      "progress: 50% .....\n",
      "progress: 60% ......\n",
      "progress: 70% .......\n",
      "progress: 80% ........\n",
      "progress: 90% .........\n"
     ]
    },
    {
     "name": "stderr",
     "output_type": "stream",
     "text": [
      "C:\\Users\\11413929\\AppData\\Local\\Temp\\ipykernel_18484\\3256056291.py:40: FutureWarning: Passing literal json to 'read_json' is deprecated and will be removed in a future version. To read from a literal string, wrap it in a 'StringIO' object.\n",
      "  df = pd.read_json(json.dumps(list_records), orient='records')\n"
     ]
    }
   ],
   "source": [
    "df_user_log = parse_data(root=root_page_logging)"
   ]
  },
  {
   "cell_type": "code",
   "execution_count": 80,
   "metadata": {},
   "outputs": [
    {
     "data": {
      "text/html": [
       "<div>\n",
       "<style scoped>\n",
       "    .dataframe tbody tr th:only-of-type {\n",
       "        vertical-align: middle;\n",
       "    }\n",
       "\n",
       "    .dataframe tbody tr th {\n",
       "        vertical-align: top;\n",
       "    }\n",
       "\n",
       "    .dataframe thead th {\n",
       "        text-align: right;\n",
       "    }\n",
       "</style>\n",
       "<table border=\"1\" class=\"dataframe\">\n",
       "  <thead>\n",
       "    <tr style=\"text-align: right;\">\n",
       "      <th></th>\n",
       "      <th>log_id</th>\n",
       "      <th>log_timestamp</th>\n",
       "      <th>user_name</th>\n",
       "      <th>user_id</th>\n",
       "      <th>user_comment</th>\n",
       "      <th>action_type</th>\n",
       "      <th>action</th>\n",
       "      <th>log_title</th>\n",
       "    </tr>\n",
       "  </thead>\n",
       "  <tbody>\n",
       "    <tr>\n",
       "      <th>0</th>\n",
       "      <td>1</td>\n",
       "      <td>2004-12-23T07:51:14Z</td>\n",
       "      <td>Dr.Akarat</td>\n",
       "      <td>174.0</td>\n",
       "      <td>ชาวไอนุ บนเกาะฮอกไกโด ประเทศญี่ปุ่น เมื่อ ค.ศ....</td>\n",
       "      <td>upload</td>\n",
       "      <td>upload</td>\n",
       "      <td>ไฟล์:AinuGroup.jpg</td>\n",
       "    </tr>\n",
       "    <tr>\n",
       "      <th>1</th>\n",
       "      <td>2</td>\n",
       "      <td>2004-12-23T09:59:44Z</td>\n",
       "      <td>Dr.Akarat</td>\n",
       "      <td>174.0</td>\n",
       "      <td>เมืองฮาโกดาเตะยามค่ำคืน</td>\n",
       "      <td>upload</td>\n",
       "      <td>upload</td>\n",
       "      <td>ไฟล์:Hakodate.jpg</td>\n",
       "    </tr>\n",
       "    <tr>\n",
       "      <th>2</th>\n",
       "      <td>3</td>\n",
       "      <td>2004-12-23T14:54:19Z</td>\n",
       "      <td>Ahoerstemeier</td>\n",
       "      <td>14.0</td>\n",
       "      <td>เนื้อหาเดิม: 'วิวัฒนาการของระบบปฏิบัติการ Linux'</td>\n",
       "      <td>delete</td>\n",
       "      <td>delete</td>\n",
       "      <td>รายชื่อระบบปฏิบัติการ</td>\n",
       "    </tr>\n",
       "  </tbody>\n",
       "</table>\n",
       "</div>"
      ],
      "text/plain": [
       "   log_id         log_timestamp      user_name  user_id  \\\n",
       "0       1  2004-12-23T07:51:14Z      Dr.Akarat    174.0   \n",
       "1       2  2004-12-23T09:59:44Z      Dr.Akarat    174.0   \n",
       "2       3  2004-12-23T14:54:19Z  Ahoerstemeier     14.0   \n",
       "\n",
       "                                        user_comment action_type  action  \\\n",
       "0  ชาวไอนุ บนเกาะฮอกไกโด ประเทศญี่ปุ่น เมื่อ ค.ศ....      upload  upload   \n",
       "1                            เมืองฮาโกดาเตะยามค่ำคืน      upload  upload   \n",
       "2   เนื้อหาเดิม: 'วิวัฒนาการของระบบปฏิบัติการ Linux'      delete  delete   \n",
       "\n",
       "               log_title  \n",
       "0     ไฟล์:AinuGroup.jpg  \n",
       "1      ไฟล์:Hakodate.jpg  \n",
       "2  รายชื่อระบบปฏิบัติการ  "
      ]
     },
     "execution_count": 80,
     "metadata": {},
     "output_type": "execute_result"
    }
   ],
   "source": [
    "df_user_log.head(3)"
   ]
  },
  {
   "cell_type": "markdown",
   "metadata": {},
   "source": [
    "# Exploratory Data Analysis"
   ]
  },
  {
   "cell_type": "markdown",
   "metadata": {},
   "source": [
    "## Exploring Action Type"
   ]
  },
  {
   "cell_type": "code",
   "execution_count": 78,
   "metadata": {},
   "outputs": [
    {
     "data": {
      "text/plain": [
       "array(['upload', 'delete', 'block', 'rights', 'move', 'renameuser',\n",
       "       'protect', 'newusers', 'patrol', 'thanks', 'massmessage', 'merge',\n",
       "       'create', 'contentmodel', 'gblblock', 'managetags', 'tag',\n",
       "       'growthexperiments'], dtype=object)"
      ]
     },
     "execution_count": 78,
     "metadata": {},
     "output_type": "execute_result"
    }
   ],
   "source": [
    "df_user_log.action_type.unique()"
   ]
  },
  {
   "cell_type": "markdown",
   "metadata": {},
   "source": [
    "From list of action types, there are 2 action types which could be indicated as a threat to Wikipedia community: <code>'block'</code>, <code>'gblblock'</code>"
   ]
  },
  {
   "cell_type": "markdown",
   "metadata": {},
   "source": [
    "## Drill down into each Action + comments"
   ]
  },
  {
   "cell_type": "code",
   "execution_count": 92,
   "metadata": {},
   "outputs": [
    {
     "data": {
      "text/plain": [
       "array(['block', 'unblock', 'reblock', 'whitelist', 'gblock2'],\n",
       "      dtype=object)"
      ]
     },
     "execution_count": 92,
     "metadata": {},
     "output_type": "execute_result"
    }
   ],
   "source": [
    "df_user_log.loc[df_user_log['action_type'].isin(['block', 'gblblock']), 'action'].unique()"
   ]
  },
  {
   "cell_type": "markdown",
   "metadata": {},
   "source": [
    "When drill down into all actions in these 2 action types, we can see some actions which might not related to bad user behaviors: <code>'unblock'</code>, <code>'whitelist'</code>"
   ]
  },
  {
   "cell_type": "code",
   "execution_count": 110,
   "metadata": {},
   "outputs": [
    {
     "data": {
      "text/plain": [
       "array(['unblock test', None, 'ป้องกันสร้างบทความแล้ว',\n",
       "       'รุ่นเก่าหยุดทำงานแล้ว', 'บล็อกผิด', 'ไม่มีปัญหา หรือแก้ไขแล้ว',\n",
       "       'เปิดโอกาสให้มาเล่น ถึงเวลา 22.00 น.', 'เพื่อปรับระดับการบล็อก',\n",
       "       '[[แม่แบบ:บล็อกผู้ก่อกวน]]  ใช้ได้ผลดี',\n",
       "       'ทดสอบแล้ว ไม่เห็นจะต่างจากการบล็อกปกติตรงไหนเลย???',\n",
       "       'ลดเหลือ 30 นาที', 'ลองอัปเดตโค้ดไปรุ่นใหม่แล้ว',\n",
       "       'อาจเกิดการบล็อกพลาด', 'เปลี่ยนระยะเวลา เดี๋ยวขาดใจตายเสียก่อน',\n",
       "       'น่าจะบล็อกผิด', 'อาจเป็นการบล็อกผิดพลาด', 'ไม่ได้ก่อกวน',\n",
       "       'เหมือนระบบมีปัญหา พ่วงตัวอื่นด้วย', 'อาจเกิดผิดพลาด', 'ผิดพลาด',\n",
       "       'อาจเกิดความผิดพลาด (ใส่แค่ลิงก์ข้ามภาษา)', 'บล็อกโดยบอตผิดพลาด',\n",
       "       'อาจเกิดความผิดพลาด', 'ไม่ใช่การก่อกวน', 'IP นี้ใช้หลายที่ในจุฬาฯ',\n",
       "       'มีเรื่องกับบอตครับ', 'bot ผิดพลาด',\n",
       "       'ต้องการลบหน้าอย่างผิดวิธี เป็นครั้งแรก', 'บอตผิด', 'บอตพลาด'],\n",
       "      dtype=object)"
      ]
     },
     "execution_count": 110,
     "metadata": {},
     "output_type": "execute_result"
    }
   ],
   "source": [
    "df_user_log.loc[df_user_log['action'] == 'unblock', 'user_comment'].unique()[:30]"
   ]
  },
  {
   "cell_type": "markdown",
   "metadata": {},
   "source": [
    "For <code>'unblock'</code> type of action, some comments are related to misunderstandings and system error."
   ]
  },
  {
   "cell_type": "code",
   "execution_count": 101,
   "metadata": {},
   "outputs": [
    {
     "data": {
      "text/plain": [
       "array(['Botkung affected', 'prevent collateral damage', 'ใช้โดยบอตคุง'],\n",
       "      dtype=object)"
      ]
     },
     "execution_count": 101,
     "metadata": {},
     "output_type": "execute_result"
    }
   ],
   "source": [
    "df_user_log.loc[df_user_log['action'] == 'whitelist', 'user_comment'].unique()[:20]"
   ]
  },
  {
   "cell_type": "code",
   "execution_count": 114,
   "metadata": {},
   "outputs": [
    {
     "name": "stdout",
     "output_type": "stream",
     "text": [
      "number of records: 6\n"
     ]
    }
   ],
   "source": [
    "print(\"number of records: {}\".format(df_user_log.loc[df_user_log['action'] == 'whitelist', :].shape[0]))"
   ]
  },
  {
   "cell_type": "markdown",
   "metadata": {},
   "source": [
    "For <code>'whitelist'</code> type of action, available information are not significant (and all comments are related to bot usage, not related to bead behaviors)."
   ]
  },
  {
   "cell_type": "code",
   "execution_count": 115,
   "metadata": {},
   "outputs": [
    {
     "data": {
      "text/plain": [
       "array(['obscene words', 'spam', 'use obscene word', 'vandal',\n",
       "       'repeat nonsense edit', 'เขียนเนื้อหาผิดนโยบายของวิกิพีเดีย', None,\n",
       "       'ผิดนโยบาย', 'testing bug?', 'testing bug', 'block test',\n",
       "       'ก่อกวนบ่อยครั้ง', 'ป่วน และ อาจก่อให้เกิดการขัดแย้ง',\n",
       "       'repeat spam', 'vandalism',\n",
       "       'ก่อกวน 3 บทความ [[ฮิวงะ ฮินาตะ]], ฯลฯ', 'ก่อกวน',\n",
       "       'ก่อกวนซ้ำหลังจากแจ้งเตือนแล้ว', 'Impersonating', 'กันการแอบอ้าง',\n",
       "       'อัปโหลดภาพที่ไม่เกี่ยว (หลังจากมีการเตือน)', 'spammer',\n",
       "       'โฆษณาเว็บไม่เหมาะสม', 'ป่วน',\n",
       "       'ก่อกวน *** ON WHEELS!!!!!!!!!!!!!!',\n",
       "       'Willy on Wheels - needs indefinite block', 'โฆษณา', 'spam sites',\n",
       "       '3RR violation', 'spam รอบ 3'], dtype=object)"
      ]
     },
     "execution_count": 115,
     "metadata": {},
     "output_type": "execute_result"
    }
   ],
   "source": [
    "df_user_log.loc[df_user_log['action'].isin(('block', 'reblock')), 'user_comment'].unique()[:30]"
   ]
  },
  {
   "cell_type": "markdown",
   "metadata": {},
   "source": [
    "For <code>'block'</code> & <code>'reblock'</code> type of action, obviously, all sample comments are related to all the troubles caused by users, such as disturbance, spam, offensive words, posting promotions, etc."
   ]
  },
  {
   "cell_type": "code",
   "execution_count": 109,
   "metadata": {},
   "outputs": [
    {
     "data": {
      "text/html": [
       "<div>\n",
       "<style scoped>\n",
       "    .dataframe tbody tr th:only-of-type {\n",
       "        vertical-align: middle;\n",
       "    }\n",
       "\n",
       "    .dataframe tbody tr th {\n",
       "        vertical-align: top;\n",
       "    }\n",
       "\n",
       "    .dataframe thead th {\n",
       "        text-align: right;\n",
       "    }\n",
       "</style>\n",
       "<table border=\"1\" class=\"dataframe\">\n",
       "  <thead>\n",
       "    <tr style=\"text-align: right;\">\n",
       "      <th></th>\n",
       "      <th>log_id</th>\n",
       "      <th>log_timestamp</th>\n",
       "      <th>user_name</th>\n",
       "      <th>user_id</th>\n",
       "      <th>user_comment</th>\n",
       "      <th>action_type</th>\n",
       "      <th>action</th>\n",
       "      <th>log_title</th>\n",
       "    </tr>\n",
       "  </thead>\n",
       "  <tbody>\n",
       "    <tr>\n",
       "      <th>1277713</th>\n",
       "      <td>1379999</td>\n",
       "      <td>2022-02-19T10:03:45Z</td>\n",
       "      <td>Maintenance script</td>\n",
       "      <td>230668.0</td>\n",
       "      <td>[[m:NOP|Open proxy]]: See the [[m:WM:OP/H|help...</td>\n",
       "      <td>gblblock</td>\n",
       "      <td>gblock2</td>\n",
       "      <td>ผู้ใช้:178.48.120.20</td>\n",
       "    </tr>\n",
       "    <tr>\n",
       "      <th>1277716</th>\n",
       "      <td>1380002</td>\n",
       "      <td>2022-02-19T10:05:03Z</td>\n",
       "      <td>Maintenance script</td>\n",
       "      <td>230668.0</td>\n",
       "      <td>[[m:NOP|Open proxy]]: See the [[m:WM:OP/H|help...</td>\n",
       "      <td>gblblock</td>\n",
       "      <td>gblock2</td>\n",
       "      <td>ผู้ใช้:49.36.230.64</td>\n",
       "    </tr>\n",
       "    <tr>\n",
       "      <th>1277726</th>\n",
       "      <td>1380012</td>\n",
       "      <td>2022-02-19T10:08:41Z</td>\n",
       "      <td>Maintenance script</td>\n",
       "      <td>230668.0</td>\n",
       "      <td>[[m:NOP|Open proxy]]: See the [[m:WM:OP/H|help...</td>\n",
       "      <td>gblblock</td>\n",
       "      <td>gblock2</td>\n",
       "      <td>ผู้ใช้:178.168.42.198</td>\n",
       "    </tr>\n",
       "  </tbody>\n",
       "</table>\n",
       "</div>"
      ],
      "text/plain": [
       "          log_id         log_timestamp           user_name   user_id  \\\n",
       "1277713  1379999  2022-02-19T10:03:45Z  Maintenance script  230668.0   \n",
       "1277716  1380002  2022-02-19T10:05:03Z  Maintenance script  230668.0   \n",
       "1277726  1380012  2022-02-19T10:08:41Z  Maintenance script  230668.0   \n",
       "\n",
       "                                              user_comment action_type  \\\n",
       "1277713  [[m:NOP|Open proxy]]: See the [[m:WM:OP/H|help...    gblblock   \n",
       "1277716  [[m:NOP|Open proxy]]: See the [[m:WM:OP/H|help...    gblblock   \n",
       "1277726  [[m:NOP|Open proxy]]: See the [[m:WM:OP/H|help...    gblblock   \n",
       "\n",
       "          action              log_title  \n",
       "1277713  gblock2   ผู้ใช้:178.48.120.20  \n",
       "1277716  gblock2    ผู้ใช้:49.36.230.64  \n",
       "1277726  gblock2  ผู้ใช้:178.168.42.198  "
      ]
     },
     "execution_count": 109,
     "metadata": {},
     "output_type": "execute_result"
    }
   ],
   "source": [
    "df_user_log.loc[df_user_log['action'].isin(('gblock2', )), :]"
   ]
  },
  {
   "cell_type": "markdown",
   "metadata": {},
   "source": [
    "Finally, <code>'gblock2'</code> type of action are not related."
   ]
  },
  {
   "cell_type": "markdown",
   "metadata": {},
   "source": [
    "## Exploring behavior of blocked users"
   ]
  },
  {
   "cell_type": "code",
   "execution_count": 121,
   "metadata": {},
   "outputs": [],
   "source": [
    "df_user_log['log_timestamp'] = df_user_log['log_timestamp'].str.replace('T', ' ')\n",
    "df_user_log['log_timestamp'] = df_user_log['log_timestamp'].str.replace('Z', '')\n",
    "\n",
    "df_user_log['log_timestamp'] = pd.to_datetime(df_user_log['log_timestamp'])"
   ]
  },
  {
   "cell_type": "code",
   "execution_count": 159,
   "metadata": {},
   "outputs": [],
   "source": [
    "list_blocked_user_id = df_user_log.loc[df_user_log['action_type'].isin(('block', 'reblock')), 'user_id'].unique().tolist()\n",
    "\n",
    "df_user_blocked = df_user_log.loc[df_user_log['user_id'].isin(list_blocked_user_id), :].copy()"
   ]
  },
  {
   "cell_type": "code",
   "execution_count": 143,
   "metadata": {},
   "outputs": [
    {
     "name": "stdout",
     "output_type": "stream",
     "text": [
      "number of users created within log period:  5\n",
      "number of all users existed in log : 48\n"
     ]
    }
   ],
   "source": [
    "print(\"number of users created within log period: \", df_user_blocked.loc[df_user_blocked.action.eq('newusers'), 'user_id'].nunique())\n",
    "print(\"number of all users existed in log :\", df_user_blocked.loc[:, 'user_id'].nunique())"
   ]
  },
  {
   "cell_type": "raw",
   "metadata": {},
   "source": [
    "feature idea -> newly registered / old users"
   ]
  },
  {
   "cell_type": "code",
   "execution_count": 160,
   "metadata": {},
   "outputs": [],
   "source": [
    "df_user_blocked['block_timestamp'] = pd.to_datetime(np.where(df_user_blocked['action_type'].isin(('block', 'reblock')), df_user_blocked['log_timestamp'].copy(), pd.NaT))\n",
    "df_user_blocked.sort_values(by=['user_id', 'log_timestamp'], inplace=True)\n",
    "df_user_blocked['block_timestamp'] = df_user_blocked.groupby('user_id')['block_timestamp'].bfill()"
   ]
  },
  {
   "cell_type": "code",
   "execution_count": 161,
   "metadata": {},
   "outputs": [
    {
     "data": {
      "text/html": [
       "<div>\n",
       "<style scoped>\n",
       "    .dataframe tbody tr th:only-of-type {\n",
       "        vertical-align: middle;\n",
       "    }\n",
       "\n",
       "    .dataframe tbody tr th {\n",
       "        vertical-align: top;\n",
       "    }\n",
       "\n",
       "    .dataframe thead th {\n",
       "        text-align: right;\n",
       "    }\n",
       "</style>\n",
       "<table border=\"1\" class=\"dataframe\">\n",
       "  <thead>\n",
       "    <tr style=\"text-align: right;\">\n",
       "      <th></th>\n",
       "      <th>log_id</th>\n",
       "      <th>log_timestamp</th>\n",
       "      <th>user_name</th>\n",
       "      <th>user_id</th>\n",
       "      <th>user_comment</th>\n",
       "      <th>action_type</th>\n",
       "      <th>action</th>\n",
       "      <th>log_title</th>\n",
       "      <th>block_timestamp</th>\n",
       "    </tr>\n",
       "  </thead>\n",
       "  <tbody>\n",
       "    <tr>\n",
       "      <th>2543</th>\n",
       "      <td>2544</td>\n",
       "      <td>2005-08-29 21:55:27</td>\n",
       "      <td>Brooke Vibber</td>\n",
       "      <td>1.0</td>\n",
       "      <td>testing bug?</td>\n",
       "      <td>block</td>\n",
       "      <td>block</td>\n",
       "      <td>ผู้ใช้:TestBlock</td>\n",
       "      <td>2005-08-29 21:55:27</td>\n",
       "    </tr>\n",
       "    <tr>\n",
       "      <th>2544</th>\n",
       "      <td>2545</td>\n",
       "      <td>2005-08-29 22:22:37</td>\n",
       "      <td>Brooke Vibber</td>\n",
       "      <td>1.0</td>\n",
       "      <td>testing bug</td>\n",
       "      <td>block</td>\n",
       "      <td>block</td>\n",
       "      <td>ผู้ใช้:TestBlock</td>\n",
       "      <td>2005-08-29 22:22:37</td>\n",
       "    </tr>\n",
       "    <tr>\n",
       "      <th>157222</th>\n",
       "      <td>161699</td>\n",
       "      <td>2008-12-28 18:02:19</td>\n",
       "      <td>Brooke Vibber</td>\n",
       "      <td>1.0</td>\n",
       "      <td>Cut file size from 30k to 16k (converted to gr...</td>\n",
       "      <td>upload</td>\n",
       "      <td>overwrite</td>\n",
       "      <td>ไฟล์:Wiki.png</td>\n",
       "      <td>NaT</td>\n",
       "    </tr>\n",
       "    <tr>\n",
       "      <th>2</th>\n",
       "      <td>3</td>\n",
       "      <td>2004-12-23 14:54:19</td>\n",
       "      <td>Ahoerstemeier</td>\n",
       "      <td>14.0</td>\n",
       "      <td>เนื้อหาเดิม: 'วิวัฒนาการของระบบปฏิบัติการ Linux'</td>\n",
       "      <td>delete</td>\n",
       "      <td>delete</td>\n",
       "      <td>รายชื่อระบบปฏิบัติการ</td>\n",
       "      <td>2006-05-10 09:42:19</td>\n",
       "    </tr>\n",
       "    <tr>\n",
       "      <th>6</th>\n",
       "      <td>7</td>\n",
       "      <td>2004-12-24 10:26:04</td>\n",
       "      <td>Ahoerstemeier</td>\n",
       "      <td>14.0</td>\n",
       "      <td>เนื้อหาเดิม: 'sign laguage'</td>\n",
       "      <td>delete</td>\n",
       "      <td>delete</td>\n",
       "      <td>ภาษามือไต้หวัน</td>\n",
       "      <td>2006-05-10 09:42:19</td>\n",
       "    </tr>\n",
       "    <tr>\n",
       "      <th>...</th>\n",
       "      <td>...</td>\n",
       "      <td>...</td>\n",
       "      <td>...</td>\n",
       "      <td>...</td>\n",
       "      <td>...</td>\n",
       "      <td>...</td>\n",
       "      <td>...</td>\n",
       "      <td>...</td>\n",
       "      <td>...</td>\n",
       "    </tr>\n",
       "    <tr>\n",
       "      <th>1603951</th>\n",
       "      <td>1722747</td>\n",
       "      <td>2024-09-21 14:54:25</td>\n",
       "      <td>Kaoavi</td>\n",
       "      <td>401376.0</td>\n",
       "      <td>เปลี่ยนชื่อ</td>\n",
       "      <td>move</td>\n",
       "      <td>move_redir</td>\n",
       "      <td>แรม</td>\n",
       "      <td>NaT</td>\n",
       "    </tr>\n",
       "    <tr>\n",
       "      <th>1603952</th>\n",
       "      <td>1722748</td>\n",
       "      <td>2024-09-21 14:54:25</td>\n",
       "      <td>Kaoavi</td>\n",
       "      <td>401376.0</td>\n",
       "      <td>เปลี่ยนชื่อ</td>\n",
       "      <td>move</td>\n",
       "      <td>move</td>\n",
       "      <td>พูดคุย:แรม</td>\n",
       "      <td>NaT</td>\n",
       "    </tr>\n",
       "    <tr>\n",
       "      <th>1603953</th>\n",
       "      <td>1722749</td>\n",
       "      <td>2024-09-21 15:05:03</td>\n",
       "      <td>Kaoavi</td>\n",
       "      <td>401376.0</td>\n",
       "      <td>เนื้อหาเดิม: \"{{ลบ|ไม่จำเป็น}}\"</td>\n",
       "      <td>delete</td>\n",
       "      <td>delete</td>\n",
       "      <td>คุยเรื่องวิกิพีเดีย:EF</td>\n",
       "      <td>NaT</td>\n",
       "    </tr>\n",
       "    <tr>\n",
       "      <th>1603954</th>\n",
       "      <td>1722750</td>\n",
       "      <td>2024-09-21 15:08:44</td>\n",
       "      <td>Kaoavi</td>\n",
       "      <td>401376.0</td>\n",
       "      <td>ไม่จำเป็นแล้ว</td>\n",
       "      <td>protect</td>\n",
       "      <td>unprotect</td>\n",
       "      <td>ค้นหา</td>\n",
       "      <td>NaT</td>\n",
       "    </tr>\n",
       "    <tr>\n",
       "      <th>1603956</th>\n",
       "      <td>1722752</td>\n",
       "      <td>2024-09-21 15:09:52</td>\n",
       "      <td>Kaoavi</td>\n",
       "      <td>401376.0</td>\n",
       "      <td>ป้องกันหน้าเป็นระยะเวลานานแล้ว</td>\n",
       "      <td>protect</td>\n",
       "      <td>modify</td>\n",
       "      <td>สุวิทย์ คุณกิตติ</td>\n",
       "      <td>NaT</td>\n",
       "    </tr>\n",
       "  </tbody>\n",
       "</table>\n",
       "<p>423623 rows × 9 columns</p>\n",
       "</div>"
      ],
      "text/plain": [
       "          log_id       log_timestamp      user_name   user_id  \\\n",
       "2543        2544 2005-08-29 21:55:27  Brooke Vibber       1.0   \n",
       "2544        2545 2005-08-29 22:22:37  Brooke Vibber       1.0   \n",
       "157222    161699 2008-12-28 18:02:19  Brooke Vibber       1.0   \n",
       "2              3 2004-12-23 14:54:19  Ahoerstemeier      14.0   \n",
       "6              7 2004-12-24 10:26:04  Ahoerstemeier      14.0   \n",
       "...          ...                 ...            ...       ...   \n",
       "1603951  1722747 2024-09-21 14:54:25         Kaoavi  401376.0   \n",
       "1603952  1722748 2024-09-21 14:54:25         Kaoavi  401376.0   \n",
       "1603953  1722749 2024-09-21 15:05:03         Kaoavi  401376.0   \n",
       "1603954  1722750 2024-09-21 15:08:44         Kaoavi  401376.0   \n",
       "1603956  1722752 2024-09-21 15:09:52         Kaoavi  401376.0   \n",
       "\n",
       "                                              user_comment action_type  \\\n",
       "2543                                          testing bug?       block   \n",
       "2544                                           testing bug       block   \n",
       "157222   Cut file size from 30k to 16k (converted to gr...      upload   \n",
       "2         เนื้อหาเดิม: 'วิวัฒนาการของระบบปฏิบัติการ Linux'      delete   \n",
       "6                              เนื้อหาเดิม: 'sign laguage'      delete   \n",
       "...                                                    ...         ...   \n",
       "1603951                                        เปลี่ยนชื่อ        move   \n",
       "1603952                                        เปลี่ยนชื่อ        move   \n",
       "1603953                    เนื้อหาเดิม: \"{{ลบ|ไม่จำเป็น}}\"      delete   \n",
       "1603954                                      ไม่จำเป็นแล้ว     protect   \n",
       "1603956                     ป้องกันหน้าเป็นระยะเวลานานแล้ว     protect   \n",
       "\n",
       "             action               log_title     block_timestamp  \n",
       "2543          block        ผู้ใช้:TestBlock 2005-08-29 21:55:27  \n",
       "2544          block        ผู้ใช้:TestBlock 2005-08-29 22:22:37  \n",
       "157222    overwrite           ไฟล์:Wiki.png                 NaT  \n",
       "2            delete   รายชื่อระบบปฏิบัติการ 2006-05-10 09:42:19  \n",
       "6            delete          ภาษามือไต้หวัน 2006-05-10 09:42:19  \n",
       "...             ...                     ...                 ...  \n",
       "1603951  move_redir                     แรม                 NaT  \n",
       "1603952        move              พูดคุย:แรม                 NaT  \n",
       "1603953      delete  คุยเรื่องวิกิพีเดีย:EF                 NaT  \n",
       "1603954   unprotect                   ค้นหา                 NaT  \n",
       "1603956      modify        สุวิทย์ คุณกิตติ                 NaT  \n",
       "\n",
       "[423623 rows x 9 columns]"
      ]
     },
     "execution_count": 161,
     "metadata": {},
     "output_type": "execute_result"
    }
   ],
   "source": [
    "df_user_blocked"
   ]
  },
  {
   "cell_type": "markdown",
   "metadata": {},
   "source": [
    "# Proposed Solution"
   ]
  },
  {
   "cell_type": "markdown",
   "metadata": {},
   "source": [
    "<u><b>Solution</b></u> : ML solution that enable <b>proactive user blocking</b> by predicting the change of each particular user getting blocked by other users (in the next n days) based on the previous usage behavior, blocking history, and so on.\n",
    "\n",
    "<u><b>Data</b></u> : log usage level (aggregated previous usage by determined time frame)\n",
    "\n",
    "<u><b>Who use this</b></u> : Wikipedia web admin / admin users / system\n",
    "\n",
    "<u><b>How to use it</b></u> : Use the solution to predict the probability "
   ]
  }
 ],
 "metadata": {
  "kernelspec": {
   "display_name": "Python 3",
   "language": "python",
   "name": "python3"
  },
  "language_info": {
   "codemirror_mode": {
    "name": "ipython",
    "version": 3
   },
   "file_extension": ".py",
   "mimetype": "text/x-python",
   "name": "python",
   "nbconvert_exporter": "python",
   "pygments_lexer": "ipython3",
   "version": "3.10.7"
  }
 },
 "nbformat": 4,
 "nbformat_minor": 2
}
