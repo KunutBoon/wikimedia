{
 "cells": [
  {
   "cell_type": "markdown",
   "metadata": {},
   "source": [
    "# Import Library"
   ]
  },
  {
   "cell_type": "code",
   "execution_count": 1,
   "metadata": {},
   "outputs": [],
   "source": [
    "import os\n",
    "import re\n",
    "import json\n",
    "import xml.etree.ElementTree as ET\n",
    "from pathlib import Path\n",
    "\n",
    "import pandas as pd\n",
    "import numpy as np"
   ]
  },
  {
   "cell_type": "markdown",
   "metadata": {},
   "source": [
    "# Functions"
   ]
  },
  {
   "cell_type": "code",
   "execution_count": 2,
   "metadata": {},
   "outputs": [],
   "source": [
    "def get_namespace(element):\n",
    "    m = re.match(r'\\{.*\\}', element.tag)\n",
    "    if m:\n",
    "        tag = m.group(0)\n",
    "    else:\n",
    "        tag = ''\n",
    "    return  tag"
   ]
  },
  {
   "cell_type": "code",
   "execution_count": 3,
   "metadata": {},
   "outputs": [],
   "source": [
    "def parse_data(root):\n",
    "    list_records = list()\n",
    "    xml_nms = get_namespace(root)\n",
    "\n",
    "    list_elems = root.findall(f'{xml_nms}logitem')\n",
    "    n_all_elems = len(list_elems)\n",
    "    nth_percent_display = n_all_elems // 10\n",
    "\n",
    "    xml_tag_mapper = {\n",
    "        f'{xml_nms}id': 'log_id',\n",
    "        f'{xml_nms}timestamp': 'log_timestamp',\n",
    "        f'{xml_nms}contributor/{xml_nms}username': 'user_name',\n",
    "        f'{xml_nms}contributor/{xml_nms}id': 'user_id',\n",
    "        f'{xml_nms}comment': 'user_comment',\n",
    "        f'{xml_nms}type': 'action_type',\n",
    "        f'{xml_nms}action': 'action',\n",
    "        f'{xml_nms}logtitle': 'log_title'\n",
    "    }\n",
    "\n",
    "    for i, elem in enumerate(list_elems):\n",
    "        record = dict()\n",
    "\n",
    "        for xml_tag, col_name in xml_tag_mapper.items():\n",
    "            try:\n",
    "                value = elem.find(xml_tag).text\n",
    "            except AttributeError:\n",
    "                value = None\n",
    "            \n",
    "            record[col_name] = value\n",
    "\n",
    "        list_records.append(record)\n",
    "\n",
    "        if i % nth_percent_display == 0:\n",
    "            progress = int(i / nth_percent_display)\n",
    "            if progress <= 9 and progress > 0:\n",
    "                print(\"progress: {}% {}\".format(10 * progress, \".\" * progress))\n",
    "            else:\n",
    "                if i == 10:\n",
    "                    print(\"done\")\n",
    "\n",
    "    df = pd.read_json(json.dumps(list_records), orient='records')\n",
    "\n",
    "    return df"
   ]
  },
  {
   "cell_type": "code",
   "execution_count": 4,
   "metadata": {},
   "outputs": [],
   "source": [
    "def parse_column_header(sql):\n",
    "    s = re.search(r'CREATE TABLE .* \\(((.* NOT NULL,)+)', sql, re.DOTALL)\n",
    "    if s:\n",
    "        col_names = s.group(1)\n",
    "        col_names = col_names.replace('\\n', '')\n",
    "        col_names = ' '.join(col_names.split())\n",
    "        \n",
    "        list_new_col_names = list()\n",
    "\n",
    "        for col_name in col_names.split(','):\n",
    "            if len(col_name) > 0:\n",
    "                m = re.match(r'(.*) .*\\(\\d+\\).* NOT NULL', col_name)\n",
    "                col_name = m.group(1)\n",
    "                col_name = col_name.replace('`', '').strip()\n",
    "                list_new_col_names.append(col_name)\n",
    "        \n",
    "        return list_new_col_names\n",
    "    else:\n",
    "        return None"
   ]
  },
  {
   "cell_type": "code",
   "execution_count": 5,
   "metadata": {},
   "outputs": [],
   "source": [
    "def parse_query(sql):\n",
    "    lang_proficiency = re.search('INSERT INTO .* VALUES (.*);', sql).group(1)\n",
    "    list_lang_prof = lang_proficiency.replace('),(', ')_(').split('_')\n",
    "    list_lang_prof = list(map(lambda x: x[1:-1].replace('\\'', '').split(','), list_lang_prof))\n",
    "    \n",
    "    header = parse_column_header(sql)\n",
    "    if header is None:\n",
    "        header = ['babel_user', 'babel_lang', 'babel_level']\n",
    "\n",
    "    df = pd.DataFrame(list_lang_prof, columns=header)\n",
    "\n",
    "    return df"
   ]
  },
  {
   "cell_type": "code",
   "execution_count": 6,
   "metadata": {},
   "outputs": [],
   "source": [
    "def process_log(df):\n",
    "    df['log_timestamp'] = df['log_timestamp'].str.replace('T', ' ')\n",
    "    df['log_timestamp'] = df['log_timestamp'].str.replace('Z', '')\n",
    "    df['log_timestamp'] = pd.to_datetime(df['log_timestamp'], format='%Y-%m-%d %H:%M:%S')\n",
    "\n",
    "    df.drop(columns=['user_name', 'log_title'], inplace=True)\n",
    "\n",
    "    df.dropna(subset='user_id', inplace=True)\n",
    "    df['user_id'] = df['user_id'].astype(int)\n",
    "\n",
    "    df.sort_values(by=['user_id', 'log_timestamp'], ascending=[True, True], inplace=True, ignore_index=True)"
   ]
  },
  {
   "cell_type": "code",
   "execution_count": 7,
   "metadata": {},
   "outputs": [],
   "source": [
    "def get_log_unblock(df):\n",
    "    df_user_block = df.loc[df['action'].isin(['block', 'reblock']), ['log_id', 'user_id', 'log_timestamp']]\n",
    "    df_user_unblock = df.loc[df['action'].eq('unblock'), ['user_id', 'log_timestamp', 'user_comment']]\n",
    "\n",
    "    df_user_block.sort_values(by='log_timestamp', inplace=True)\n",
    "    df_user_unblock.sort_values(by='log_timestamp', inplace=True)\n",
    "\n",
    "    df_comment = pd.merge_asof(df_user_block, df_user_unblock, by='user_id', on='log_timestamp', tolerance=pd.Timedelta('2d'), direction='forward')\n",
    "    df_comment['user_comment'] = df_comment['user_comment'].fillna('')\n",
    "    df_comment['user_comment'] = df_comment['user_comment'].str.lower()\n",
    "\n",
    "    list_log_id = df_comment.loc[df_comment['user_comment'].str.contains('ผิด|พลาด|ok|false', regex=True), 'log_id']\n",
    "    list_log_id = list_log_id.tolist()\n",
    "\n",
    "    return list_log_id"
   ]
  },
  {
   "cell_type": "code",
   "execution_count": null,
   "metadata": {},
   "outputs": [],
   "source": [
    "def calculate_target(df):\n",
    "    list_unblock_log = get_log_unblock(df)\n",
    "\n",
    "    df['next_action'] = df.groupby('user_id')['action'].shift(-1)\n",
    "    df['is_block'] = df['next_action'].isin(['block', 'reblock']) & ~df['log_id'].isin(list_unblock_log)\n",
    "\n",
    "    n_blocks = df.groupby('user_id').rolling('2d', min_periods=1, on='log_timestamp')['is_block'].sum()\n",
    "    n_blocks = n_blocks.astype(int)\n",
    "    n_blocks = n_blocks.reset_index(level=0, drop=True)\n",
    "    n_blocks.reset_index(drop=True, inplace=True)\n",
    "\n",
    "    df['n_blocks'] = n_blocks\n",
    "\n",
    "    df['is_block_next_period'] = df['n_blocks'].ge(3).astype(int)\n",
    "\n",
    "    df.drop(columns=['next_action', 'is_block', 'n_blocks'], inplace=True)"
   ]
  },
  {
   "cell_type": "markdown",
   "metadata": {},
   "source": [
    "# Import Data"
   ]
  },
  {
   "cell_type": "code",
   "execution_count": 8,
   "metadata": {},
   "outputs": [],
   "source": [
    "path = Path(os.getcwd())\n",
    "\n",
    "project_dir = path.parent\n",
    "raw_data_dir = project_dir / 'data' / 'raw'"
   ]
  },
  {
   "cell_type": "code",
   "execution_count": 9,
   "metadata": {},
   "outputs": [],
   "source": [
    "# user log\n",
    "tree_page_logging = ET.parse(raw_data_dir / 'thwiki-20240920-pages-logging.xml')\n",
    "root_page_logging = tree_page_logging.getroot()\n",
    "\n",
    "# language proficiency\n",
    "with open(raw_data_dir / 'thwiki-20240920-babel.sql', 'r') as f:\n",
    "    sql_lang_prof = f.read()"
   ]
  },
  {
   "cell_type": "code",
   "execution_count": 10,
   "metadata": {},
   "outputs": [
    {
     "name": "stdout",
     "output_type": "stream",
     "text": [
      "progress: 10% .\n",
      "progress: 20% ..\n",
      "progress: 30% ...\n",
      "progress: 40% ....\n",
      "progress: 50% .....\n",
      "progress: 60% ......\n",
      "progress: 70% .......\n",
      "progress: 80% ........\n",
      "progress: 90% .........\n"
     ]
    },
    {
     "name": "stderr",
     "output_type": "stream",
     "text": [
      "C:\\Users\\11413929\\AppData\\Local\\Temp\\ipykernel_14516\\2690832593.py:41: FutureWarning: Passing literal json to 'read_json' is deprecated and will be removed in a future version. To read from a literal string, wrap it in a 'StringIO' object.\n",
      "  df = pd.read_json(json.dumps(list_records), orient='records')\n"
     ]
    }
   ],
   "source": [
    "df_user_log = parse_data(root=root_page_logging)\n",
    "df_lang_prof = parse_query(sql_lang_prof)"
   ]
  },
  {
   "cell_type": "code",
   "execution_count": 11,
   "metadata": {},
   "outputs": [
    {
     "data": {
      "text/html": [
       "<div>\n",
       "<style scoped>\n",
       "    .dataframe tbody tr th:only-of-type {\n",
       "        vertical-align: middle;\n",
       "    }\n",
       "\n",
       "    .dataframe tbody tr th {\n",
       "        vertical-align: top;\n",
       "    }\n",
       "\n",
       "    .dataframe thead th {\n",
       "        text-align: right;\n",
       "    }\n",
       "</style>\n",
       "<table border=\"1\" class=\"dataframe\">\n",
       "  <thead>\n",
       "    <tr style=\"text-align: right;\">\n",
       "      <th></th>\n",
       "      <th>babel_user</th>\n",
       "      <th>babel_lang</th>\n",
       "      <th>babel_level</th>\n",
       "    </tr>\n",
       "  </thead>\n",
       "  <tbody>\n",
       "    <tr>\n",
       "      <th>0</th>\n",
       "      <td>138412</td>\n",
       "      <td>ab</td>\n",
       "      <td>3</td>\n",
       "    </tr>\n",
       "    <tr>\n",
       "      <th>1</th>\n",
       "      <td>91937</td>\n",
       "      <td>af</td>\n",
       "      <td>1</td>\n",
       "    </tr>\n",
       "  </tbody>\n",
       "</table>\n",
       "</div>"
      ],
      "text/plain": [
       "  babel_user babel_lang babel_level\n",
       "0     138412         ab           3\n",
       "1      91937         af           1"
      ]
     },
     "execution_count": 11,
     "metadata": {},
     "output_type": "execute_result"
    }
   ],
   "source": [
    "df_lang_prof.head(2)"
   ]
  },
  {
   "cell_type": "code",
   "execution_count": 12,
   "metadata": {},
   "outputs": [
    {
     "data": {
      "text/html": [
       "<div>\n",
       "<style scoped>\n",
       "    .dataframe tbody tr th:only-of-type {\n",
       "        vertical-align: middle;\n",
       "    }\n",
       "\n",
       "    .dataframe tbody tr th {\n",
       "        vertical-align: top;\n",
       "    }\n",
       "\n",
       "    .dataframe thead th {\n",
       "        text-align: right;\n",
       "    }\n",
       "</style>\n",
       "<table border=\"1\" class=\"dataframe\">\n",
       "  <thead>\n",
       "    <tr style=\"text-align: right;\">\n",
       "      <th></th>\n",
       "      <th>log_id</th>\n",
       "      <th>log_timestamp</th>\n",
       "      <th>user_name</th>\n",
       "      <th>user_id</th>\n",
       "      <th>user_comment</th>\n",
       "      <th>action_type</th>\n",
       "      <th>action</th>\n",
       "      <th>log_title</th>\n",
       "    </tr>\n",
       "  </thead>\n",
       "  <tbody>\n",
       "    <tr>\n",
       "      <th>0</th>\n",
       "      <td>1</td>\n",
       "      <td>2004-12-23T07:51:14Z</td>\n",
       "      <td>Dr.Akarat</td>\n",
       "      <td>174.0</td>\n",
       "      <td>ชาวไอนุ บนเกาะฮอกไกโด ประเทศญี่ปุ่น เมื่อ ค.ศ....</td>\n",
       "      <td>upload</td>\n",
       "      <td>upload</td>\n",
       "      <td>ไฟล์:AinuGroup.jpg</td>\n",
       "    </tr>\n",
       "    <tr>\n",
       "      <th>1</th>\n",
       "      <td>2</td>\n",
       "      <td>2004-12-23T09:59:44Z</td>\n",
       "      <td>Dr.Akarat</td>\n",
       "      <td>174.0</td>\n",
       "      <td>เมืองฮาโกดาเตะยามค่ำคืน</td>\n",
       "      <td>upload</td>\n",
       "      <td>upload</td>\n",
       "      <td>ไฟล์:Hakodate.jpg</td>\n",
       "    </tr>\n",
       "  </tbody>\n",
       "</table>\n",
       "</div>"
      ],
      "text/plain": [
       "   log_id         log_timestamp  user_name  user_id  \\\n",
       "0       1  2004-12-23T07:51:14Z  Dr.Akarat    174.0   \n",
       "1       2  2004-12-23T09:59:44Z  Dr.Akarat    174.0   \n",
       "\n",
       "                                        user_comment action_type  action  \\\n",
       "0  ชาวไอนุ บนเกาะฮอกไกโด ประเทศญี่ปุ่น เมื่อ ค.ศ....      upload  upload   \n",
       "1                            เมืองฮาโกดาเตะยามค่ำคืน      upload  upload   \n",
       "\n",
       "            log_title  \n",
       "0  ไฟล์:AinuGroup.jpg  \n",
       "1   ไฟล์:Hakodate.jpg  "
      ]
     },
     "execution_count": 12,
     "metadata": {},
     "output_type": "execute_result"
    }
   ],
   "source": [
    "df_user_log.head(2)"
   ]
  },
  {
   "cell_type": "code",
   "execution_count": 15,
   "metadata": {},
   "outputs": [
    {
     "data": {
      "text/plain": [
       "user_comment\n",
       "เปลี่ยนชื่อผู้ใช้แล้ว                          29\n",
       "false positive                                 27\n",
       "แก้ไขเจตนาดี                                   16\n",
       "OK                                             16\n",
       "มีช่วงการบล็อกที่ครอบคลุมกว่า                  13\n",
       "ไม่ได้ก่อกวน                                   11\n",
       "เปลี่ยนชื่อแล้ว                                10\n",
       "ปรับช่วงการบล็อกใหม่                           10\n",
       "แจ้งเปลี่ยนชื่อ                                 8\n",
       "การแก้ถูกต้องแล้ว                               8\n",
       "ผิดพลาด                                         7\n",
       "per [[WP:AN#ข้อความฝากถามแอดมินวิกิพีเดีย]]     7\n",
       "บล็อกผิดไอพี                                    7\n",
       "ต้องการระบุเหตุผลในการบล็อกให้ชัดเจน            6\n",
       "ยกเลิกการบล็อก                                  6\n",
       "รอตรวจสอบก่อน                                   6\n",
       "ไม่มีความจำเป็นต้องบล็อกไอพีนาน                 6\n",
       "อุทธรณ์การบล็อก                                 5\n",
       "แก้ไขชื่อแล้ว                                   4\n",
       "ให้เวลาทบทวนตนเองนานมากแล้ว                     4\n",
       "บล็อกผิดบัญชี                                   4\n",
       "โหดไป ปลดบล็อก ขออภัย                           4\n",
       "ขออภัย ดูผิดเวอร์ชั่น                           4\n",
       "มีทั้งการแก้ไขถูกและผิดผสมกัน                   4\n",
       "ลองอัปเดตโค้ดไปรุ่นใหม่แล้ว                     4\n",
       "Name: count, dtype: int64"
      ]
     },
     "execution_count": 15,
     "metadata": {},
     "output_type": "execute_result"
    }
   ],
   "source": [
    "df_user_block = df_user_log.loc[df_user_log['action'].isin(['block', 'reblock']), ['log_id', 'user_id', 'log_timestamp']]\n",
    "df_user_unblock = df_user_log.loc[df_user_log['action'].eq('unblock'), ['user_id', 'log_timestamp', 'user_comment']]\n",
    "\n",
    "df_user_block['log_timestamp'] = pd.to_datetime(df_user_block['log_timestamp'].str.replace('T', ' ').str.replace('Z', ''))\n",
    "df_user_unblock['log_timestamp'] = pd.to_datetime(df_user_unblock['log_timestamp'].str.replace('T', ' ').str.replace('Z', ''))\n",
    "\n",
    "df_user_block.sort_values(by='log_timestamp', inplace=True)\n",
    "df_user_unblock.sort_values(by='log_timestamp', inplace=True)\n",
    "\n",
    "df_comment = pd.merge_asof(df_user_block, df_user_unblock, by='user_id', on='log_timestamp', tolerance=pd.Timedelta('2d'), direction='forward')\n",
    "\n",
    "df_comment['user_comment'].value_counts().head(25)"
   ]
  },
  {
   "cell_type": "markdown",
   "metadata": {},
   "source": [
    "There are some keywords which indicates misunderstandings, such as, <code>'false positive'</code>, <code>'ผิด'</code>, <code>'พลาด'</code>, <code>'ok'</code>"
   ]
  },
  {
   "cell_type": "markdown",
   "metadata": {},
   "source": [
    "# Pre-process"
   ]
  },
  {
   "cell_type": "code",
   "execution_count": 14,
   "metadata": {},
   "outputs": [],
   "source": [
    "process_log(df_user_log)\n",
    "\n",
    "calculate_target(df_user_log)"
   ]
  },
  {
   "cell_type": "code",
   "execution_count": 44,
   "metadata": {},
   "outputs": [
    {
     "data": {
      "text/html": [
       "<div>\n",
       "<style scoped>\n",
       "    .dataframe tbody tr th:only-of-type {\n",
       "        vertical-align: middle;\n",
       "    }\n",
       "\n",
       "    .dataframe tbody tr th {\n",
       "        vertical-align: top;\n",
       "    }\n",
       "\n",
       "    .dataframe thead th {\n",
       "        text-align: right;\n",
       "    }\n",
       "</style>\n",
       "<table border=\"1\" class=\"dataframe\">\n",
       "  <thead>\n",
       "    <tr style=\"text-align: right;\">\n",
       "      <th></th>\n",
       "      <th>log_id</th>\n",
       "      <th>log_timestamp</th>\n",
       "      <th>user_id</th>\n",
       "      <th>user_comment</th>\n",
       "      <th>action_type</th>\n",
       "      <th>action</th>\n",
       "      <th>is_block_next_period</th>\n",
       "    </tr>\n",
       "  </thead>\n",
       "  <tbody>\n",
       "    <tr>\n",
       "      <th>0</th>\n",
       "      <td>2544</td>\n",
       "      <td>2005-08-29 21:55:27</td>\n",
       "      <td>1</td>\n",
       "      <td>testing bug?</td>\n",
       "      <td>block</td>\n",
       "      <td>block</td>\n",
       "      <td>0</td>\n",
       "    </tr>\n",
       "    <tr>\n",
       "      <th>1</th>\n",
       "      <td>2545</td>\n",
       "      <td>2005-08-29 22:22:37</td>\n",
       "      <td>1</td>\n",
       "      <td>testing bug</td>\n",
       "      <td>block</td>\n",
       "      <td>block</td>\n",
       "      <td>0</td>\n",
       "    </tr>\n",
       "    <tr>\n",
       "      <th>2</th>\n",
       "      <td>161699</td>\n",
       "      <td>2008-12-28 18:02:19</td>\n",
       "      <td>1</td>\n",
       "      <td>Cut file size from 30k to 16k (converted to gr...</td>\n",
       "      <td>upload</td>\n",
       "      <td>overwrite</td>\n",
       "      <td>0</td>\n",
       "    </tr>\n",
       "    <tr>\n",
       "      <th>3</th>\n",
       "      <td>50</td>\n",
       "      <td>2005-01-10 13:09:40</td>\n",
       "      <td>2</td>\n",
       "      <td>None</td>\n",
       "      <td>delete</td>\n",
       "      <td>delete</td>\n",
       "      <td>0</td>\n",
       "    </tr>\n",
       "    <tr>\n",
       "      <th>4</th>\n",
       "      <td>51</td>\n",
       "      <td>2005-01-10 13:11:02</td>\n",
       "      <td>2</td>\n",
       "      <td>เนื้อหาเดิม: 'สวัสดีครับ'</td>\n",
       "      <td>delete</td>\n",
       "      <td>delete</td>\n",
       "      <td>0</td>\n",
       "    </tr>\n",
       "    <tr>\n",
       "      <th>...</th>\n",
       "      <td>...</td>\n",
       "      <td>...</td>\n",
       "      <td>...</td>\n",
       "      <td>...</td>\n",
       "      <td>...</td>\n",
       "      <td>...</td>\n",
       "      <td>...</td>\n",
       "    </tr>\n",
       "    <tr>\n",
       "      <th>1593971</th>\n",
       "      <td>1723590</td>\n",
       "      <td>2024-09-23 11:51:03</td>\n",
       "      <td>488702</td>\n",
       "      <td>None</td>\n",
       "      <td>newusers</td>\n",
       "      <td>autocreate</td>\n",
       "      <td>0</td>\n",
       "    </tr>\n",
       "    <tr>\n",
       "      <th>1593972</th>\n",
       "      <td>1723592</td>\n",
       "      <td>2024-09-23 11:53:03</td>\n",
       "      <td>488703</td>\n",
       "      <td>None</td>\n",
       "      <td>newusers</td>\n",
       "      <td>autocreate</td>\n",
       "      <td>0</td>\n",
       "    </tr>\n",
       "    <tr>\n",
       "      <th>1593973</th>\n",
       "      <td>1723595</td>\n",
       "      <td>2024-09-23 12:08:26</td>\n",
       "      <td>488704</td>\n",
       "      <td>None</td>\n",
       "      <td>newusers</td>\n",
       "      <td>autocreate</td>\n",
       "      <td>0</td>\n",
       "    </tr>\n",
       "    <tr>\n",
       "      <th>1593974</th>\n",
       "      <td>1723613</td>\n",
       "      <td>2024-09-23 12:40:41</td>\n",
       "      <td>488705</td>\n",
       "      <td>None</td>\n",
       "      <td>newusers</td>\n",
       "      <td>autocreate</td>\n",
       "      <td>0</td>\n",
       "    </tr>\n",
       "    <tr>\n",
       "      <th>1593975</th>\n",
       "      <td>1723619</td>\n",
       "      <td>2024-09-23 13:00:31</td>\n",
       "      <td>488706</td>\n",
       "      <td>None</td>\n",
       "      <td>newusers</td>\n",
       "      <td>autocreate</td>\n",
       "      <td>0</td>\n",
       "    </tr>\n",
       "  </tbody>\n",
       "</table>\n",
       "<p>1593976 rows × 7 columns</p>\n",
       "</div>"
      ],
      "text/plain": [
       "          log_id       log_timestamp  user_id  \\\n",
       "0           2544 2005-08-29 21:55:27        1   \n",
       "1           2545 2005-08-29 22:22:37        1   \n",
       "2         161699 2008-12-28 18:02:19        1   \n",
       "3             50 2005-01-10 13:09:40        2   \n",
       "4             51 2005-01-10 13:11:02        2   \n",
       "...          ...                 ...      ...   \n",
       "1593971  1723590 2024-09-23 11:51:03   488702   \n",
       "1593972  1723592 2024-09-23 11:53:03   488703   \n",
       "1593973  1723595 2024-09-23 12:08:26   488704   \n",
       "1593974  1723613 2024-09-23 12:40:41   488705   \n",
       "1593975  1723619 2024-09-23 13:00:31   488706   \n",
       "\n",
       "                                              user_comment action_type  \\\n",
       "0                                             testing bug?       block   \n",
       "1                                              testing bug       block   \n",
       "2        Cut file size from 30k to 16k (converted to gr...      upload   \n",
       "3                                                     None      delete   \n",
       "4                                เนื้อหาเดิม: 'สวัสดีครับ'      delete   \n",
       "...                                                    ...         ...   \n",
       "1593971                                               None    newusers   \n",
       "1593972                                               None    newusers   \n",
       "1593973                                               None    newusers   \n",
       "1593974                                               None    newusers   \n",
       "1593975                                               None    newusers   \n",
       "\n",
       "             action  is_block_next_period  \n",
       "0             block                     0  \n",
       "1             block                     0  \n",
       "2         overwrite                     0  \n",
       "3            delete                     0  \n",
       "4            delete                     0  \n",
       "...             ...                   ...  \n",
       "1593971  autocreate                     0  \n",
       "1593972  autocreate                     0  \n",
       "1593973  autocreate                     0  \n",
       "1593974  autocreate                     0  \n",
       "1593975  autocreate                     0  \n",
       "\n",
       "[1593976 rows x 7 columns]"
      ]
     },
     "execution_count": 44,
     "metadata": {},
     "output_type": "execute_result"
    }
   ],
   "source": [
    "df_user_log"
   ]
  },
  {
   "cell_type": "code",
   "execution_count": 42,
   "metadata": {},
   "outputs": [],
   "source": []
  },
  {
   "cell_type": "code",
   "execution_count": 39,
   "metadata": {},
   "outputs": [
    {
     "data": {
      "text/plain": [
       "np.int64(65003)"
      ]
     },
     "execution_count": 39,
     "metadata": {},
     "output_type": "execute_result"
    }
   ],
   "source": [
    "df_user_log['is_block_next_period'].sum()"
   ]
  },
  {
   "cell_type": "code",
   "execution_count": 40,
   "metadata": {},
   "outputs": [
    {
     "data": {
      "text/plain": [
       "np.int64(152201)"
      ]
     },
     "execution_count": 40,
     "metadata": {},
     "output_type": "execute_result"
    }
   ],
   "source": [
    "df_user_log['n_blocks'].gt(0).sum()"
   ]
  },
  {
   "cell_type": "code",
   "execution_count": 20,
   "metadata": {},
   "outputs": [],
   "source": [
    "df_user_log.reset_index(drop=True, inplace=True)"
   ]
  },
  {
   "cell_type": "code",
   "execution_count": 23,
   "metadata": {},
   "outputs": [
    {
     "data": {
      "text/html": [
       "<div>\n",
       "<style scoped>\n",
       "    .dataframe tbody tr th:only-of-type {\n",
       "        vertical-align: middle;\n",
       "    }\n",
       "\n",
       "    .dataframe tbody tr th {\n",
       "        vertical-align: top;\n",
       "    }\n",
       "\n",
       "    .dataframe thead th {\n",
       "        text-align: right;\n",
       "    }\n",
       "</style>\n",
       "<table border=\"1\" class=\"dataframe\">\n",
       "  <thead>\n",
       "    <tr style=\"text-align: right;\">\n",
       "      <th></th>\n",
       "      <th>log_id</th>\n",
       "      <th>log_timestamp</th>\n",
       "      <th>user_id</th>\n",
       "      <th>user_comment</th>\n",
       "      <th>action_type</th>\n",
       "      <th>action</th>\n",
       "      <th>next_action</th>\n",
       "      <th>is_block</th>\n",
       "    </tr>\n",
       "  </thead>\n",
       "  <tbody>\n",
       "    <tr>\n",
       "      <th>0</th>\n",
       "      <td>2544</td>\n",
       "      <td>2005-08-29 21:55:27</td>\n",
       "      <td>1</td>\n",
       "      <td>testing bug?</td>\n",
       "      <td>block</td>\n",
       "      <td>block</td>\n",
       "      <td>block</td>\n",
       "      <td>True</td>\n",
       "    </tr>\n",
       "    <tr>\n",
       "      <th>1</th>\n",
       "      <td>2545</td>\n",
       "      <td>2005-08-29 22:22:37</td>\n",
       "      <td>1</td>\n",
       "      <td>testing bug</td>\n",
       "      <td>block</td>\n",
       "      <td>block</td>\n",
       "      <td>overwrite</td>\n",
       "      <td>False</td>\n",
       "    </tr>\n",
       "    <tr>\n",
       "      <th>2</th>\n",
       "      <td>161699</td>\n",
       "      <td>2008-12-28 18:02:19</td>\n",
       "      <td>1</td>\n",
       "      <td>Cut file size from 30k to 16k (converted to gr...</td>\n",
       "      <td>upload</td>\n",
       "      <td>overwrite</td>\n",
       "      <td>NaN</td>\n",
       "      <td>False</td>\n",
       "    </tr>\n",
       "    <tr>\n",
       "      <th>3</th>\n",
       "      <td>50</td>\n",
       "      <td>2005-01-10 13:09:40</td>\n",
       "      <td>2</td>\n",
       "      <td>None</td>\n",
       "      <td>delete</td>\n",
       "      <td>delete</td>\n",
       "      <td>delete</td>\n",
       "      <td>False</td>\n",
       "    </tr>\n",
       "    <tr>\n",
       "      <th>4</th>\n",
       "      <td>51</td>\n",
       "      <td>2005-01-10 13:11:02</td>\n",
       "      <td>2</td>\n",
       "      <td>เนื้อหาเดิม: 'สวัสดีครับ'</td>\n",
       "      <td>delete</td>\n",
       "      <td>delete</td>\n",
       "      <td>delete</td>\n",
       "      <td>False</td>\n",
       "    </tr>\n",
       "    <tr>\n",
       "      <th>...</th>\n",
       "      <td>...</td>\n",
       "      <td>...</td>\n",
       "      <td>...</td>\n",
       "      <td>...</td>\n",
       "      <td>...</td>\n",
       "      <td>...</td>\n",
       "      <td>...</td>\n",
       "      <td>...</td>\n",
       "    </tr>\n",
       "    <tr>\n",
       "      <th>1593971</th>\n",
       "      <td>1723590</td>\n",
       "      <td>2024-09-23 11:51:03</td>\n",
       "      <td>488702</td>\n",
       "      <td>None</td>\n",
       "      <td>newusers</td>\n",
       "      <td>autocreate</td>\n",
       "      <td>NaN</td>\n",
       "      <td>False</td>\n",
       "    </tr>\n",
       "    <tr>\n",
       "      <th>1593972</th>\n",
       "      <td>1723592</td>\n",
       "      <td>2024-09-23 11:53:03</td>\n",
       "      <td>488703</td>\n",
       "      <td>None</td>\n",
       "      <td>newusers</td>\n",
       "      <td>autocreate</td>\n",
       "      <td>NaN</td>\n",
       "      <td>False</td>\n",
       "    </tr>\n",
       "    <tr>\n",
       "      <th>1593973</th>\n",
       "      <td>1723595</td>\n",
       "      <td>2024-09-23 12:08:26</td>\n",
       "      <td>488704</td>\n",
       "      <td>None</td>\n",
       "      <td>newusers</td>\n",
       "      <td>autocreate</td>\n",
       "      <td>NaN</td>\n",
       "      <td>False</td>\n",
       "    </tr>\n",
       "    <tr>\n",
       "      <th>1593974</th>\n",
       "      <td>1723613</td>\n",
       "      <td>2024-09-23 12:40:41</td>\n",
       "      <td>488705</td>\n",
       "      <td>None</td>\n",
       "      <td>newusers</td>\n",
       "      <td>autocreate</td>\n",
       "      <td>NaN</td>\n",
       "      <td>False</td>\n",
       "    </tr>\n",
       "    <tr>\n",
       "      <th>1593975</th>\n",
       "      <td>1723619</td>\n",
       "      <td>2024-09-23 13:00:31</td>\n",
       "      <td>488706</td>\n",
       "      <td>None</td>\n",
       "      <td>newusers</td>\n",
       "      <td>autocreate</td>\n",
       "      <td>NaN</td>\n",
       "      <td>False</td>\n",
       "    </tr>\n",
       "  </tbody>\n",
       "</table>\n",
       "<p>1593976 rows × 8 columns</p>\n",
       "</div>"
      ],
      "text/plain": [
       "          log_id       log_timestamp  user_id  \\\n",
       "0           2544 2005-08-29 21:55:27        1   \n",
       "1           2545 2005-08-29 22:22:37        1   \n",
       "2         161699 2008-12-28 18:02:19        1   \n",
       "3             50 2005-01-10 13:09:40        2   \n",
       "4             51 2005-01-10 13:11:02        2   \n",
       "...          ...                 ...      ...   \n",
       "1593971  1723590 2024-09-23 11:51:03   488702   \n",
       "1593972  1723592 2024-09-23 11:53:03   488703   \n",
       "1593973  1723595 2024-09-23 12:08:26   488704   \n",
       "1593974  1723613 2024-09-23 12:40:41   488705   \n",
       "1593975  1723619 2024-09-23 13:00:31   488706   \n",
       "\n",
       "                                              user_comment action_type  \\\n",
       "0                                             testing bug?       block   \n",
       "1                                              testing bug       block   \n",
       "2        Cut file size from 30k to 16k (converted to gr...      upload   \n",
       "3                                                     None      delete   \n",
       "4                                เนื้อหาเดิม: 'สวัสดีครับ'      delete   \n",
       "...                                                    ...         ...   \n",
       "1593971                                               None    newusers   \n",
       "1593972                                               None    newusers   \n",
       "1593973                                               None    newusers   \n",
       "1593974                                               None    newusers   \n",
       "1593975                                               None    newusers   \n",
       "\n",
       "             action next_action  is_block  \n",
       "0             block       block      True  \n",
       "1             block   overwrite     False  \n",
       "2         overwrite         NaN     False  \n",
       "3            delete      delete     False  \n",
       "4            delete      delete     False  \n",
       "...             ...         ...       ...  \n",
       "1593971  autocreate         NaN     False  \n",
       "1593972  autocreate         NaN     False  \n",
       "1593973  autocreate         NaN     False  \n",
       "1593974  autocreate         NaN     False  \n",
       "1593975  autocreate         NaN     False  \n",
       "\n",
       "[1593976 rows x 8 columns]"
      ]
     },
     "execution_count": 23,
     "metadata": {},
     "output_type": "execute_result"
    }
   ],
   "source": [
    "df_user_log"
   ]
  },
  {
   "cell_type": "code",
   "execution_count": 71,
   "metadata": {},
   "outputs": [],
   "source": []
  },
  {
   "cell_type": "code",
   "execution_count": 77,
   "metadata": {},
   "outputs": [
    {
     "data": {
      "text/plain": [
       "np.int64(0)"
      ]
     },
     "execution_count": 77,
     "metadata": {},
     "output_type": "execute_result"
    }
   ],
   "source": [
    "df_user_log.n_blocks.isnull().sum()"
   ]
  },
  {
   "cell_type": "code",
   "execution_count": 78,
   "metadata": {},
   "outputs": [
    {
     "data": {
      "text/plain": [
       "2543       1\n",
       "2544       1\n",
       "157222     0\n",
       "49         0\n",
       "50         0\n",
       "          ..\n",
       "1604742    0\n",
       "1604744    0\n",
       "1604747    0\n",
       "1604762    0\n",
       "1604768    0\n",
       "Name: n_blocks, Length: 3271944, dtype: int64"
      ]
     },
     "execution_count": 78,
     "metadata": {},
     "output_type": "execute_result"
    }
   ],
   "source": [
    "df_user_log['n_blocks'].gt(0).astype(int)"
   ]
  },
  {
   "cell_type": "code",
   "execution_count": 53,
   "metadata": {},
   "outputs": [
    {
     "data": {
      "text/plain": [
       "155        87720\n",
       "514       136273\n",
       "516       136320\n",
       "695       159759\n",
       "857       179364\n",
       "          ...   \n",
       "10410    1158487\n",
       "10414    1159015\n",
       "13680    1629856\n",
       "13681    1629858\n",
       "13684    1630763\n",
       "Name: log_id, Length: 83, dtype: int64"
      ]
     },
     "execution_count": 53,
     "metadata": {},
     "output_type": "execute_result"
    }
   ],
   "source": []
  },
  {
   "cell_type": "code",
   "execution_count": 124,
   "metadata": {},
   "outputs": [
    {
     "data": {
      "text/plain": [
       "(1604779, 5)"
      ]
     },
     "execution_count": 124,
     "metadata": {},
     "output_type": "execute_result"
    }
   ],
   "source": [
    "df_prep.shape"
   ]
  },
  {
   "cell_type": "code",
   "execution_count": 126,
   "metadata": {},
   "outputs": [],
   "source": [
    "df1 = pd.DataFrame({ 'datetime':['2020-01-01 07:00:00', '2020-01-01 08:00:00', '2020-01-03 07:00:00', '2020-01-03 07:02:00', '2020-01-03 07:02:00', '2020-01-04 07:02:00', '2020-01-05 07:02:00'],\n",
    "                     'key': [1, 1, 1, 1, 2, 2, 2],\n",
    "                     'sample':  ['create', 'create', 'delete', 'delete', 'block', 'unblock', 'create'] })\n"
   ]
  },
  {
   "cell_type": "code",
   "execution_count": 133,
   "metadata": {},
   "outputs": [
    {
     "data": {
      "text/html": [
       "<div>\n",
       "<style scoped>\n",
       "    .dataframe tbody tr th:only-of-type {\n",
       "        vertical-align: middle;\n",
       "    }\n",
       "\n",
       "    .dataframe tbody tr th {\n",
       "        vertical-align: top;\n",
       "    }\n",
       "\n",
       "    .dataframe thead th {\n",
       "        text-align: right;\n",
       "    }\n",
       "</style>\n",
       "<table border=\"1\" class=\"dataframe\">\n",
       "  <thead>\n",
       "    <tr style=\"text-align: right;\">\n",
       "      <th></th>\n",
       "      <th>datetime</th>\n",
       "      <th>key</th>\n",
       "      <th>sample</th>\n",
       "    </tr>\n",
       "  </thead>\n",
       "  <tbody>\n",
       "    <tr>\n",
       "      <th>0</th>\n",
       "      <td>2020-01-01 07:00:00</td>\n",
       "      <td>1</td>\n",
       "      <td>create</td>\n",
       "    </tr>\n",
       "    <tr>\n",
       "      <th>1</th>\n",
       "      <td>2020-01-01 08:00:00</td>\n",
       "      <td>1</td>\n",
       "      <td>create</td>\n",
       "    </tr>\n",
       "    <tr>\n",
       "      <th>2</th>\n",
       "      <td>2020-01-03 07:00:00</td>\n",
       "      <td>1</td>\n",
       "      <td>delete</td>\n",
       "    </tr>\n",
       "    <tr>\n",
       "      <th>3</th>\n",
       "      <td>2020-01-03 07:02:00</td>\n",
       "      <td>1</td>\n",
       "      <td>delete</td>\n",
       "    </tr>\n",
       "    <tr>\n",
       "      <th>4</th>\n",
       "      <td>2020-01-03 07:02:00</td>\n",
       "      <td>2</td>\n",
       "      <td>block</td>\n",
       "    </tr>\n",
       "    <tr>\n",
       "      <th>5</th>\n",
       "      <td>2020-01-04 07:02:00</td>\n",
       "      <td>2</td>\n",
       "      <td>unblock</td>\n",
       "    </tr>\n",
       "    <tr>\n",
       "      <th>6</th>\n",
       "      <td>2020-01-05 07:02:00</td>\n",
       "      <td>2</td>\n",
       "      <td>create</td>\n",
       "    </tr>\n",
       "  </tbody>\n",
       "</table>\n",
       "</div>"
      ],
      "text/plain": [
       "             datetime  key   sample\n",
       "0 2020-01-01 07:00:00    1   create\n",
       "1 2020-01-01 08:00:00    1   create\n",
       "2 2020-01-03 07:00:00    1   delete\n",
       "3 2020-01-03 07:02:00    1   delete\n",
       "4 2020-01-03 07:02:00    2    block\n",
       "5 2020-01-04 07:02:00    2  unblock\n",
       "6 2020-01-05 07:02:00    2   create"
      ]
     },
     "execution_count": 133,
     "metadata": {},
     "output_type": "execute_result"
    }
   ],
   "source": [
    "df1"
   ]
  },
  {
   "cell_type": "code",
   "execution_count": 128,
   "metadata": {},
   "outputs": [],
   "source": [
    "df1['datetime'] = pd.to_datetime(df1['datetime'])"
   ]
  },
  {
   "cell_type": "code",
   "execution_count": 135,
   "metadata": {},
   "outputs": [
    {
     "data": {
      "text/html": [
       "<div>\n",
       "<style scoped>\n",
       "    .dataframe tbody tr th:only-of-type {\n",
       "        vertical-align: middle;\n",
       "    }\n",
       "\n",
       "    .dataframe tbody tr th {\n",
       "        vertical-align: top;\n",
       "    }\n",
       "\n",
       "    .dataframe thead th {\n",
       "        text-align: right;\n",
       "    }\n",
       "</style>\n",
       "<table border=\"1\" class=\"dataframe\">\n",
       "  <thead>\n",
       "    <tr style=\"text-align: right;\">\n",
       "      <th></th>\n",
       "      <th>datetime</th>\n",
       "      <th>key</th>\n",
       "      <th>sample_x</th>\n",
       "      <th>sample_y</th>\n",
       "    </tr>\n",
       "  </thead>\n",
       "  <tbody>\n",
       "    <tr>\n",
       "      <th>0</th>\n",
       "      <td>2020-01-01 07:00:00</td>\n",
       "      <td>1</td>\n",
       "      <td>create</td>\n",
       "      <td>create</td>\n",
       "    </tr>\n",
       "    <tr>\n",
       "      <th>1</th>\n",
       "      <td>2020-01-01 08:00:00</td>\n",
       "      <td>1</td>\n",
       "      <td>create</td>\n",
       "      <td>create</td>\n",
       "    </tr>\n",
       "    <tr>\n",
       "      <th>2</th>\n",
       "      <td>2020-01-03 07:00:00</td>\n",
       "      <td>1</td>\n",
       "      <td>delete</td>\n",
       "      <td>delete</td>\n",
       "    </tr>\n",
       "    <tr>\n",
       "      <th>3</th>\n",
       "      <td>2020-01-03 07:02:00</td>\n",
       "      <td>1</td>\n",
       "      <td>delete</td>\n",
       "      <td>delete</td>\n",
       "    </tr>\n",
       "    <tr>\n",
       "      <th>4</th>\n",
       "      <td>2020-01-03 07:02:00</td>\n",
       "      <td>2</td>\n",
       "      <td>block</td>\n",
       "      <td>block</td>\n",
       "    </tr>\n",
       "    <tr>\n",
       "      <th>5</th>\n",
       "      <td>2020-01-04 07:02:00</td>\n",
       "      <td>2</td>\n",
       "      <td>unblock</td>\n",
       "      <td>unblock</td>\n",
       "    </tr>\n",
       "    <tr>\n",
       "      <th>6</th>\n",
       "      <td>2020-01-05 07:02:00</td>\n",
       "      <td>2</td>\n",
       "      <td>create</td>\n",
       "      <td>create</td>\n",
       "    </tr>\n",
       "  </tbody>\n",
       "</table>\n",
       "</div>"
      ],
      "text/plain": [
       "             datetime  key sample_x sample_y\n",
       "0 2020-01-01 07:00:00    1   create   create\n",
       "1 2020-01-01 08:00:00    1   create   create\n",
       "2 2020-01-03 07:00:00    1   delete   delete\n",
       "3 2020-01-03 07:02:00    1   delete   delete\n",
       "4 2020-01-03 07:02:00    2    block    block\n",
       "5 2020-01-04 07:02:00    2  unblock  unblock\n",
       "6 2020-01-05 07:02:00    2   create   create"
      ]
     },
     "execution_count": 135,
     "metadata": {},
     "output_type": "execute_result"
    }
   ],
   "source": [
    "pd.merge_asof(df1, df1, left_index=False, right_index=False, by='key', on='datetime', tolerance=pd.Timedelta(days=1))"
   ]
  },
  {
   "cell_type": "code",
   "execution_count": 117,
   "metadata": {},
   "outputs": [
    {
     "data": {
      "text/html": [
       "<div>\n",
       "<style scoped>\n",
       "    .dataframe tbody tr th:only-of-type {\n",
       "        vertical-align: middle;\n",
       "    }\n",
       "\n",
       "    .dataframe tbody tr th {\n",
       "        vertical-align: top;\n",
       "    }\n",
       "\n",
       "    .dataframe thead th {\n",
       "        text-align: right;\n",
       "    }\n",
       "</style>\n",
       "<table border=\"1\" class=\"dataframe\">\n",
       "  <thead>\n",
       "    <tr style=\"text-align: right;\">\n",
       "      <th></th>\n",
       "      <th>datetime</th>\n",
       "      <th>sample_x</th>\n",
       "      <th>sample_y</th>\n",
       "    </tr>\n",
       "  </thead>\n",
       "  <tbody>\n",
       "    <tr>\n",
       "      <th>0</th>\n",
       "      <td>2017-01-01 00:00:00.300</td>\n",
       "      <td>0</td>\n",
       "      <td>100</td>\n",
       "    </tr>\n",
       "    <tr>\n",
       "      <th>1</th>\n",
       "      <td>2017-01-01 00:00:00.600</td>\n",
       "      <td>1</td>\n",
       "      <td>100</td>\n",
       "    </tr>\n",
       "    <tr>\n",
       "      <th>2</th>\n",
       "      <td>2017-01-01 00:00:00.900</td>\n",
       "      <td>2</td>\n",
       "      <td>100</td>\n",
       "    </tr>\n",
       "    <tr>\n",
       "      <th>3</th>\n",
       "      <td>2017-01-01 00:00:01.200</td>\n",
       "      <td>3</td>\n",
       "      <td>101</td>\n",
       "    </tr>\n",
       "  </tbody>\n",
       "</table>\n",
       "</div>"
      ],
      "text/plain": [
       "                 datetime  sample_x  sample_y\n",
       "0 2017-01-01 00:00:00.300         0       100\n",
       "1 2017-01-01 00:00:00.600         1       100\n",
       "2 2017-01-01 00:00:00.900         2       100\n",
       "3 2017-01-01 00:00:01.200         3       101"
      ]
     },
     "execution_count": 117,
     "metadata": {},
     "output_type": "execute_result"
    }
   ],
   "source": [
    "pd.merge_asof( df2, df1, on='datetime', tolerance=pd.Timedelta('1s') )"
   ]
  },
  {
   "cell_type": "code",
   "execution_count": null,
   "metadata": {},
   "outputs": [],
   "source": []
  }
 ],
 "metadata": {
  "kernelspec": {
   "display_name": "Python 3",
   "language": "python",
   "name": "python3"
  },
  "language_info": {
   "codemirror_mode": {
    "name": "ipython",
    "version": 3
   },
   "file_extension": ".py",
   "mimetype": "text/x-python",
   "name": "python",
   "nbconvert_exporter": "python",
   "pygments_lexer": "ipython3",
   "version": "3.10.7"
  }
 },
 "nbformat": 4,
 "nbformat_minor": 2
}
